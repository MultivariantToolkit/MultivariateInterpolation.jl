{
 "cells": [
  {
   "cell_type": "code",
   "execution_count": 1,
   "metadata": {},
   "outputs": [
    {
     "name": "stderr",
     "output_type": "stream",
     "text": [
      "\u001b[32m\u001b[1m  Activating\u001b[22m\u001b[39m project at `~/Work/jlProjects/MultivariantToolkit/forks/MultivariateInterpolation.jl`\n"
     ]
    },
    {
     "name": "stderr",
     "output_type": "stream",
     "text": [
      "┌ Warning: The active manifest file is missing a julia version entry. Dependencies may have been resolved with a different julia version.\n",
      "└ @ nothing /Users/uwe/Work/jlProjects/MultivariantToolkit/forks/MultivariateInterpolation.jl/Manifest.toml:0\n"
     ]
    },
    {
     "name": "stderr",
     "output_type": "stream",
     "text": [
      "\u001b[32m\u001b[1mPrecompiling\u001b[22m\u001b[39m project...\n"
     ]
    },
    {
     "name": "stderr",
     "output_type": "stream",
     "text": [
      "\u001b[32m  ✓ \u001b[39mMultivariateInterpolation\n",
      "  1 dependency successfully precompiled in 1 seconds. 1 already precompiled.\n"
     ]
    }
   ],
   "source": [
    "import Pkg\n",
    "Pkg.activate(\".\")\n",
    "Pkg.instantiate()"
   ]
  },
  {
   "cell_type": "code",
   "execution_count": 2,
   "metadata": {},
   "outputs": [],
   "source": [
    "using MultivariateInterpolation\n",
    "using LinearAlgebra"
   ]
  },
  {
   "cell_type": "code",
   "execution_count": 3,
   "metadata": {},
   "outputs": [
    {
     "data": {
      "text/plain": [
       "3×11 MultiIndexSet{Matrix{Int64}, Int64}:\n",
       " 0  1  2  0  1  0  0  1  0  1  0\n",
       " 0  0  0  1  1  2  0  0  1  1  0\n",
       " 0  0  0  0  0  0  1  1  1  1  2"
      ]
     },
     "metadata": {},
     "output_type": "display_data"
    }
   ],
   "source": [
    "DIM = 3\n",
    "DEG = 2\n",
    "LP = 2\n",
    "\n",
    "mi = MultiIndexSet(DIM,DEG,LP)"
   ]
  },
  {
   "cell_type": "code",
   "execution_count": 4,
   "metadata": {},
   "outputs": [
    {
     "data": {
      "text/plain": [
       "exponents (generic function with 1 method)"
      ]
     },
     "metadata": {},
     "output_type": "display_data"
    }
   ],
   "source": [
    "exponents(m::MultiIndexSet) = MultiIndexSet.data"
   ]
  },
  {
   "cell_type": "code",
   "execution_count": 5,
   "metadata": {},
   "outputs": [
    {
     "data": {
      "text/plain": [
       "polynomial_degree (generic function with 1 method)"
      ]
     },
     "metadata": {},
     "output_type": "display_data"
    }
   ],
   "source": [
    "function polynomial_degree(multi_index_set,lp)\n",
    "    @show multi_index_set\n",
    "    norms = norm.(eachrow(multi_index_set), lp)\n",
    "    maximum(norms)\n",
    "end"
   ]
  },
  {
   "cell_type": "code",
   "execution_count": 6,
   "metadata": {},
   "outputs": [
    {
     "name": "stdout",
     "output_type": "stream",
     "text": [
      "multi_index_set = [0 1 2 0 1 0 0 1 0 1 0; 0 0 0 1 1 2 0 0 1 1 0; 0 0 0 0 0 0 1 1 1 1 2]\n"
     ]
    },
    {
     "data": {
      "text/plain": [
       "2.8284271247461903"
      ]
     },
     "metadata": {},
     "output_type": "display_data"
    }
   ],
   "source": [
    "polynomial_degree(mi,2)"
   ]
  },
  {
   "cell_type": "code",
   "execution_count": 7,
   "metadata": {},
   "outputs": [
    {
     "data": {
      "text/plain": [
       "2.23606797749979"
      ]
     },
     "metadata": {},
     "output_type": "display_data"
    }
   ],
   "source": [
    "sqrt(2^2+1)"
   ]
  },
  {
   "cell_type": "code",
   "execution_count": 8,
   "metadata": {},
   "outputs": [
    {
     "data": {
      "text/plain": [
       "3×11 Matrix{Int64}:\n",
       " 0  1  2  0  1  0  0  1  0  1  0\n",
       " 0  0  0  1  1  2  0  0  1  1  0\n",
       " 0  0  0  0  0  0  1  1  1  1  2"
      ]
     },
     "metadata": {},
     "output_type": "display_data"
    }
   ],
   "source": [
    "MultivariateInterpolation._generate_exponents_static(3,2,2)"
   ]
  },
  {
   "cell_type": "code",
   "execution_count": 9,
   "metadata": {},
   "outputs": [
    {
     "data": {
      "text/plain": [
       "false"
      ]
     },
     "metadata": {},
     "output_type": "display_data"
    }
   ],
   "source": [
    "norm([0  2  1],2) <= 2"
   ]
  },
  {
   "cell_type": "code",
   "execution_count": 10,
   "metadata": {},
   "outputs": [
    {
     "data": {
      "text/plain": [
       "Base.Iterators.ProductIterator{Tuple{UnitRange{Int64}, UnitRange{Int64}, UnitRange{Int64}}}((0:2, 0:2, 0:2))"
      ]
     },
     "metadata": {},
     "output_type": "display_data"
    }
   ],
   "source": [
    "canidates_iter = MultivariateInterpolation._get_candidates(3, 2)"
   ]
  },
  {
   "cell_type": "code",
   "execution_count": 11,
   "metadata": {},
   "outputs": [
    {
     "name": "stdout",
     "output_type": "stream",
     "text": [
      "(0, 0, 0)\n",
      "true\n",
      "\n",
      "(1, 0, 0)\n",
      "true\n",
      "\n",
      "(2, 0, 0)\n",
      "true\n",
      "\n",
      "(0, 1, 0)\n",
      "true\n",
      "\n",
      "(1, 1, 0)\n",
      "true\n",
      "\n",
      "(2, 1, 0)\n",
      "false\n",
      "\n",
      "(0, 2, 0)\n",
      "true\n",
      "\n",
      "(1, 2, 0)\n",
      "false\n",
      "\n",
      "(2, 2, 0)\n",
      "false\n",
      "\n",
      "(0, 0, 1)\n",
      "true\n",
      "\n",
      "(1, 0, 1)\n",
      "true\n",
      "\n",
      "(2, 0, 1)\n",
      "false\n",
      "\n",
      "(0, 1, 1)\n",
      "true\n",
      "\n",
      "(1, 1, 1)\n",
      "true\n",
      "\n",
      "(2, 1, 1)\n",
      "false\n",
      "\n",
      "(0, 2, 1)\n",
      "false\n",
      "\n",
      "(1, 2, 1)\n",
      "false\n",
      "\n",
      "(2, 2, 1)\n",
      "false\n",
      "\n",
      "(0, 0, 2)\n",
      "true\n",
      "\n",
      "(1, 0, 2)\n",
      "false\n",
      "\n",
      "(2, 0, 2)\n",
      "false\n",
      "\n",
      "(0, 1, 2)\n",
      "false\n",
      "\n",
      "(1, 1, 2)\n",
      "false\n",
      "\n",
      "(2, 1, 2)\n",
      "false\n",
      "\n",
      "(0, 2, 2)\n",
      "false\n",
      "\n",
      "(1, 2, 2)\n",
      "false\n",
      "\n",
      "(2, 2, 2)\n",
      "false\n",
      "\n"
     ]
    }
   ],
   "source": [
    "for el in canidates_iter\n",
    "    println(el)\n",
    "    println(norm(el,2)<=2)\n",
    "    println()\n",
    "end"
   ]
  },
  {
   "cell_type": "code",
   "execution_count": 12,
   "metadata": {},
   "outputs": [
    {
     "data": {
      "text/plain": [
       "Base.Iterators.Filter{var\"#9#10\", Base.Iterators.ProductIterator{Tuple{UnitRange{Int64}, UnitRange{Int64}, UnitRange{Int64}}}}(var\"#9#10\"(), Base.Iterators.ProductIterator{Tuple{UnitRange{Int64}, UnitRange{Int64}, UnitRange{Int64}}}((0:2, 0:2, 0:2)))"
      ]
     },
     "metadata": {},
     "output_type": "display_data"
    }
   ],
   "source": [
    "result_iter = Iterators.filter(n -> norm(n, 2) <= 2, canidates_iter)"
   ]
  },
  {
   "cell_type": "code",
   "execution_count": 13,
   "metadata": {},
   "outputs": [
    {
     "name": "stdout",
     "output_type": "stream",
     "text": [
      "(0, 0, 0)\n",
      "(1, 0, 0)\n",
      "(2, 0, 0)\n",
      "(0, 1, 0)\n",
      "(1, 1, 0)\n",
      "(0, 2, 0)\n",
      "(0, 0, 1)\n",
      "(1, 0, 1)\n",
      "(0, 1, 1)\n",
      "(1, 1, 1)\n",
      "(0, 0, 2)\n"
     ]
    }
   ],
   "source": [
    "for el in result_iter\n",
    "    println(el)\n",
    "end"
   ]
  },
  {
   "cell_type": "code",
   "execution_count": 14,
   "metadata": {},
   "outputs": [
    {
     "data": {
      "text/plain": [
       "3×11 Matrix{Int64}:\n",
       " 0  1  2  0  1  0  0  1  0  1  0\n",
       " 0  0  0  1  1  2  0  0  1  1  0\n",
       " 0  0  0  0  0  0  1  1  1  1  2"
      ]
     },
     "metadata": {},
     "output_type": "display_data"
    }
   ],
   "source": [
    "MultivariateInterpolation._flat(result_iter)"
   ]
  },
  {
   "cell_type": "code",
   "execution_count": 15,
   "metadata": {},
   "outputs": [
    {
     "name": "stdout",
     "output_type": "stream",
     "text": [
      "[0, 0, 0]\n",
      "[1, 0, 0]\n",
      "[2, 0, 0]\n",
      "[0, 1, 0]\n",
      "[1, 1, 0]\n",
      "[0, 2, 0]\n",
      "[0, 0, 1]\n",
      "[1, 0, 1]\n",
      "[0, 1, 1]\n",
      "[1, 1, 1]\n",
      "[0, 0, 2]\n"
     ]
    }
   ],
   "source": [
    "for col in eachcol(mi)\n",
    "    println(col)\n",
    "end"
   ]
  },
  {
   "cell_type": "code",
   "execution_count": 16,
   "metadata": {},
   "outputs": [
    {
     "data": {
      "text/plain": [
       "true"
      ]
     },
     "metadata": {},
     "output_type": "display_data"
    }
   ],
   "source": [
    "typeof(Inf) <: Real"
   ]
  },
  {
   "cell_type": "code",
   "execution_count": 43,
   "metadata": {},
   "outputs": [
    {
     "data": {
      "text/plain": [
       "3×29 MultiIndexSet{Matrix{Int64}, Int64}:\n",
       " 0  1  2  3  0  1  2  0  1  2  0  0  1  …  0  1  2  0  1  2  0  1  2  0  1  0\n",
       " 0  0  0  0  1  1  1  2  2  2  3  0  0     2  2  2  0  0  0  1  1  1  2  2  0\n",
       " 0  0  0  0  0  0  0  0  0  0  0  1  1     1  1  1  2  2  2  2  2  2  2  2  3"
      ]
     },
     "metadata": {},
     "output_type": "display_data"
    }
   ],
   "source": [
    "mi = MultiIndexSet(3,3,2)"
   ]
  },
  {
   "cell_type": "code",
   "execution_count": 44,
   "metadata": {},
   "outputs": [
    {
     "data": {
      "text/plain": [
       "2"
      ]
     },
     "metadata": {},
     "output_type": "display_data"
    }
   ],
   "source": [
    "mi.lp"
   ]
  },
  {
   "cell_type": "code",
   "execution_count": 55,
   "metadata": {},
   "outputs": [
    {
     "data": {
      "text/plain": [
       "contains (generic function with 3 methods)"
      ]
     },
     "metadata": {},
     "output_type": "display_data"
    }
   ],
   "source": [
    "function contains(mi::MultiIndexSet,x::AbstractVector{T}) where T<:Real\n",
    "    if length(x)!=spatial_dimension(mi)\n",
    "        return false\n",
    "    end\n",
    "    for col in eachcol(mi)\n",
    "        if isapprox(col,x)\n",
    "            \n",
    "            return true\n",
    "        end\n",
    "    end\n",
    "    return false\n",
    "end\n",
    "\n",
    "function contains(mi::MultiIndexSet,x::AbstractMatrix{T}) where T<:Real\n",
    "    res = zeros(Bool,size(x,2))\n",
    "    for i in 1:size(x,2)\n",
    "        if contains(mi,view(x,:,i))\n",
    "            res[i] = true\n",
    "        end\n",
    "    end\n",
    "    return res\n",
    "end"
   ]
  },
  {
   "cell_type": "code",
   "execution_count": 61,
   "metadata": {},
   "outputs": [
    {
     "data": {
      "text/plain": [
       "false"
      ]
     },
     "metadata": {},
     "output_type": "display_data"
    }
   ],
   "source": [
    "all(contains(mi,MultiIndexSet(3,3,3)))"
   ]
  },
  {
   "cell_type": "code",
   "execution_count": 71,
   "metadata": {},
   "outputs": [
    {
     "data": {
      "text/plain": [
       "1×2 MultiIndexSet{Matrix{Int64}, Float64}:\n",
       " 0  1"
      ]
     },
     "metadata": {},
     "output_type": "display_data"
    }
   ],
   "source": [
    "mi = MultiIndexSet(    3, 1 , 0.5)"
   ]
  },
  {
   "cell_type": "code",
   "execution_count": 76,
   "metadata": {},
   "outputs": [
    {
     "data": {
      "text/plain": [
       "1×2 MultiIndexSet{Matrix{Int64}, Float64}:\n",
       " 0  1"
      ]
     },
     "metadata": {},
     "output_type": "display_data"
    }
   ],
   "source": [
    "mi2 = MultiIndexSet(  1, 1,0.5)"
   ]
  },
  {
   "cell_type": "code",
   "execution_count": 68,
   "metadata": {},
   "outputs": [
    {
     "data": {
      "text/plain": [
       "15-element Vector{Bool}:\n",
       " 1\n",
       " 1\n",
       " 1\n",
       " 1\n",
       " 1\n",
       " 1\n",
       " 1\n",
       " 1\n",
       " 1\n",
       " 1\n",
       " 1\n",
       " 1\n",
       " 1\n",
       " 1\n",
       " 1"
      ]
     },
     "metadata": {},
     "output_type": "display_data"
    }
   ],
   "source": [
    "contains(mi2,mi)"
   ]
  },
  {
   "cell_type": "code",
   "execution_count": 70,
   "metadata": {},
   "outputs": [
    {
     "data": {
      "text/plain": [
       "false"
      ]
     },
     "metadata": {},
     "output_type": "display_data"
    }
   ],
   "source": [
    "Inf<=2"
   ]
  },
  {
   "cell_type": "code",
   "execution_count": null,
   "metadata": {},
   "outputs": [],
   "source": []
  }
 ],
 "metadata": {
  "kernelspec": {
   "display_name": "Julia 1.10.0",
   "language": "julia",
   "name": "julia-1.10"
  },
  "language_info": {
   "file_extension": ".jl",
   "mimetype": "application/julia",
   "name": "julia",
   "version": "1.10.0"
  }
 },
 "nbformat": 4,
 "nbformat_minor": 2
}
